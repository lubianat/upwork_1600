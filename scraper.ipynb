{
 "cells": [
  {
   "cell_type": "markdown",
   "metadata": {},
   "source": [
    "For the informations that are not about people (and likely not on Wikidata) I'll try a different strategy. \n",
    "\n",
    "\n",
    "For each section of each page, I'll get the Wikitext. \n",
    "\n",
    "From the wikitext, I'll extract, for each entry in a section:\n",
    "    \n",
    "    - the date string\n",
    "    - the full wikitext of the section\n",
    "\n",
    "Then I'll build functions to:\n",
    "    - Parse date string in two (if possible)\n",
    "    - Get the first link of the entry\n",
    "    - Get the additional link URLs of the entry\n",
    "    - Convert wikitext into readable human text.\n",
    "    \n",
    "   "
   ]
  },
  {
   "cell_type": "code",
   "execution_count": 2,
   "metadata": {},
   "outputs": [
    {
     "data": {
      "text/html": [
       "<div>\n",
       "<style scoped>\n",
       "    .dataframe tbody tr th:only-of-type {\n",
       "        vertical-align: middle;\n",
       "    }\n",
       "\n",
       "    .dataframe tbody tr th {\n",
       "        vertical-align: top;\n",
       "    }\n",
       "\n",
       "    .dataframe thead th {\n",
       "        text-align: right;\n",
       "    }\n",
       "</style>\n",
       "<table border=\"1\" class=\"dataframe\">\n",
       "  <thead>\n",
       "    <tr style=\"text-align: right;\">\n",
       "      <th></th>\n",
       "      <th>toclevel</th>\n",
       "      <th>level</th>\n",
       "      <th>line</th>\n",
       "      <th>number</th>\n",
       "      <th>index</th>\n",
       "      <th>fromtitle</th>\n",
       "      <th>byteoffset</th>\n",
       "      <th>anchor</th>\n",
       "    </tr>\n",
       "  </thead>\n",
       "  <tbody>\n",
       "    <tr>\n",
       "      <th>0</th>\n",
       "      <td>1</td>\n",
       "      <td>2</td>\n",
       "      <td>Events</td>\n",
       "      <td>1</td>\n",
       "      <td>1</td>\n",
       "      <td>17th_century</td>\n",
       "      <td>7373</td>\n",
       "      <td>Events</td>\n",
       "    </tr>\n",
       "    <tr>\n",
       "      <th>1</th>\n",
       "      <td>2</td>\n",
       "      <td>3</td>\n",
       "      <td>1601–1650</td>\n",
       "      <td>1.1</td>\n",
       "      <td>2</td>\n",
       "      <td>17th_century</td>\n",
       "      <td>7423</td>\n",
       "      <td>1601–1650</td>\n",
       "    </tr>\n",
       "    <tr>\n",
       "      <th>2</th>\n",
       "      <td>2</td>\n",
       "      <td>3</td>\n",
       "      <td>1651–1700</td>\n",
       "      <td>1.2</td>\n",
       "      <td>3</td>\n",
       "      <td>17th_century</td>\n",
       "      <td>17327</td>\n",
       "      <td>1651–1700</td>\n",
       "    </tr>\n",
       "    <tr>\n",
       "      <th>3</th>\n",
       "      <td>1</td>\n",
       "      <td>2</td>\n",
       "      <td>Significant people</td>\n",
       "      <td>2</td>\n",
       "      <td>4</td>\n",
       "      <td>17th_century</td>\n",
       "      <td>23000</td>\n",
       "      <td>Significant_people</td>\n",
       "    </tr>\n",
       "    <tr>\n",
       "      <th>4</th>\n",
       "      <td>2</td>\n",
       "      <td>3</td>\n",
       "      <td>Musicians</td>\n",
       "      <td>2.1</td>\n",
       "      <td>5</td>\n",
       "      <td>17th_century</td>\n",
       "      <td>27283</td>\n",
       "      <td>Musicians</td>\n",
       "    </tr>\n",
       "  </tbody>\n",
       "</table>\n",
       "</div>"
      ],
      "text/plain": [
       "   toclevel level                line number index     fromtitle  byteoffset  \\\n",
       "0         1     2              Events      1     1  17th_century        7373   \n",
       "1         2     3           1601–1650    1.1     2  17th_century        7423   \n",
       "2         2     3           1651–1700    1.2     3  17th_century       17327   \n",
       "3         1     2  Significant people      2     4  17th_century       23000   \n",
       "4         2     3           Musicians    2.1     5  17th_century       27283   \n",
       "\n",
       "               anchor  \n",
       "0              Events  \n",
       "1           1601–1650  \n",
       "2           1651–1700  \n",
       "3  Significant_people  \n",
       "4           Musicians  "
      ]
     },
     "execution_count": 2,
     "metadata": {},
     "output_type": "execute_result"
    }
   ],
   "source": [
    "import requests\n",
    "from functions import functions\n",
    "import pandas as pd\n",
    "query = \"https://en.wikipedia.org/w/api.php?action=parse&prop=sections&page=17th_century&format=json\"\n",
    "sections = requests.get(query)\n",
    "sections_df = pd.json_normalize(sections.json()[\"parse\"][\"sections\"])\n",
    "sections_df.head()"
   ]
  },
  {
   "cell_type": "markdown",
   "metadata": {},
   "source": [
    "I'll start the exploration with the first section: Events"
   ]
  },
  {
   "cell_type": "code",
   "execution_count": 4,
   "metadata": {},
   "outputs": [],
   "source": [
    "\n",
    "page = \"17th_century\"\n",
    "section = \"1\"\n",
    "query = \"https://en.wikipedia.org/w/api.php?action=parse&format=json&page=\" + page + \"&prop=wikitext&section=\" + section + \"&disabletoc=1\"\n",
    "wikitext = requests.get(query)\n"
   ]
  },
  {
   "cell_type": "code",
   "execution_count": 12,
   "metadata": {},
   "outputs": [],
   "source": [
    "section_text = wikitext.json()[\"parse\"][\"wikitext\"][\"*\"]"
   ]
  },
  {
   "cell_type": "code",
   "execution_count": 16,
   "metadata": {},
   "outputs": [],
   "source": [
    "section_text_in_chunks = section_text.split(\"*\")"
   ]
  },
  {
   "cell_type": "code",
   "execution_count": 36,
   "metadata": {},
   "outputs": [],
   "source": [
    "df = pd.DataFrame(columns=[\"date_string\", \"wikitext_string\"])\n",
    "\n",
    "for text in section_text_in_chunks:\n",
    "    data = text.split(\":\",1)\n",
    "    \n",
    "    if len(data) == 2:\n",
    "        row = {\"date_string\":data[0], \"wikitext_string\":data[1]}\n",
    "        df = df.append(row, ignore_index=True)\n"
   ]
  },
  {
   "cell_type": "code",
   "execution_count": 40,
   "metadata": {},
   "outputs": [
    {
     "data": {
      "text/html": [
       "<div>\n",
       "<style scoped>\n",
       "    .dataframe tbody tr th:only-of-type {\n",
       "        vertical-align: middle;\n",
       "    }\n",
       "\n",
       "    .dataframe tbody tr th {\n",
       "        vertical-align: top;\n",
       "    }\n",
       "\n",
       "    .dataframe thead th {\n",
       "        text-align: right;\n",
       "    }\n",
       "</style>\n",
       "<table border=\"1\" class=\"dataframe\">\n",
       "  <thead>\n",
       "    <tr style=\"text-align: right;\">\n",
       "      <th></th>\n",
       "      <th>date_string</th>\n",
       "      <th>wikitext_string</th>\n",
       "    </tr>\n",
       "  </thead>\n",
       "  <tbody>\n",
       "    <tr>\n",
       "      <th>0</th>\n",
       "      <td>[[1600]]</td>\n",
       "      <td>[[Michael the Brave]] unifies the three [[Rom...</td>\n",
       "    </tr>\n",
       "    <tr>\n",
       "      <th>1</th>\n",
       "      <td>[[1601]]</td>\n",
       "      <td>[[Battle of Kinsale]], England defeats Irish ...</td>\n",
       "    </tr>\n",
       "    <tr>\n",
       "      <th>2</th>\n",
       "      <td>[[1601]]–[[1603]]</td>\n",
       "      <td>The [[Russian famine of 1601–1603]] kills per...</td>\n",
       "    </tr>\n",
       "    <tr>\n",
       "      <th>3</th>\n",
       "      <td>[[1602]]</td>\n",
       "      <td>[[Matteo Ricci]] produces the [[Kunyu Wanguo ...</td>\n",
       "    </tr>\n",
       "    <tr>\n",
       "      <th>4</th>\n",
       "      <td>[[1602]]</td>\n",
       "      <td>The [[Dutch East India Company]] (VOC) is est...</td>\n",
       "    </tr>\n",
       "  </tbody>\n",
       "</table>\n",
       "</div>"
      ],
      "text/plain": [
       "          date_string                                    wikitext_string\n",
       "0            [[1600]]   [[Michael the Brave]] unifies the three [[Rom...\n",
       "1            [[1601]]   [[Battle of Kinsale]], England defeats Irish ...\n",
       "2   [[1601]]–[[1603]]   The [[Russian famine of 1601–1603]] kills per...\n",
       "3            [[1602]]   [[Matteo Ricci]] produces the [[Kunyu Wanguo ...\n",
       "4            [[1602]]   The [[Dutch East India Company]] (VOC) is est..."
      ]
     },
     "execution_count": 40,
     "metadata": {},
     "output_type": "execute_result"
    }
   ],
   "source": [
    "df.head()"
   ]
  },
  {
   "cell_type": "markdown",
   "metadata": {},
   "source": [
    "Nice, now we have the raw material to build further. We will use a Python library for wikitext to extract the informations of interest. This is the library that will be used:\n",
    "https://pypi.org/project/wikitextparser/#id11"
   ]
  },
  {
   "cell_type": "code",
   "execution_count": null,
   "metadata": {},
   "outputs": [],
   "source": []
  }
 ],
 "metadata": {
  "kernelspec": {
   "display_name": "Python 3",
   "language": "python",
   "name": "python3"
  },
  "language_info": {
   "codemirror_mode": {
    "name": "ipython",
    "version": 3
   },
   "file_extension": ".py",
   "mimetype": "text/x-python",
   "name": "python",
   "nbconvert_exporter": "python",
   "pygments_lexer": "ipython3",
   "version": "3.7.5"
  }
 },
 "nbformat": 4,
 "nbformat_minor": 4
}
