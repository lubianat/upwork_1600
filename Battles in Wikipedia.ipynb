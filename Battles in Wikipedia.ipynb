{
 "cells": [
  {
   "cell_type": "markdown",
   "metadata": {},
   "source": [
    "## Battles in Wikipedia\n",
    "\n",
    "First, I will get all the battles in WikiMedia's database, Wikidata, via SPARQL. \n",
    "\n",
    "\n",
    "Alternatively, the query can be run in the browser via this link: \n",
    "https://query.wikidata.org/#prefix%20schema%3A%20%3Chttp%3A%2F%2Fschema.org%2F%3E%0APREFIX%20wikibase%3A%20%3Chttp%3A%2F%2Fwikiba.se%2Fontology%23%3E%0APREFIX%20wd%3A%20%3Chttp%3A%2F%2Fwww.wikidata.org%2Fentity%2F%3E%0APREFIX%20wdt%3A%20%3Chttp%3A%2F%2Fwww.wikidata.org%2Fprop%2Fdirect%2F%3E%0A%0ASELECT%20%3Fwikidata_id%20%3Fname%20%3Farticle%20%3Fcoordinates%20%3Fstarttime%20%3Fendtime%20%3FparticipantLabel%20%3FwarLabel%0AWHERE%20%7B%0A%20%20%0A%20%23%20Select%20all%20battles%20in%20the%20database%0A%20%20%20%20%3Fwikidata_id%20wdt%3AP31%20wd%3AQ178561.%0A%20%20%0A%20%23%20Then%20select%2C%20when%20possible%3A%0A%20%23%20%28by%20removing%20the%20OPTIONAL%7B%7D%20tag%20it%20becomes%20a%20mandatory%20requisite%20for%20the%20query.%0A%20%20%0A%20%23%20The%20coordinates%3A%0A%20%20%20%20OPTIONAL%7B%3Fwikidata_id%20wdt%3AP625%20%3Fcoordinates.%7D%0A%20%20%0A%20%23%20The%20start%20time%3A%0A%20%20%20%20OPTIONAL%7B%3Fwikidata_id%20wdt%3AP580%20%3Fstarttime.%7D%0A%20%20%0A%20%23%20The%20end%20time%3A%0A%20%20%20%20OPTIONAL%7B%3Fwikidata_id%20wdt%3AP582%20%3Fendtime.%7D%0A%20%20%0A%20%23%20The%20participants%3A%0A%20%20%20%20OPTIONAL%7B%3Fwikidata_id%20wdt%3AP710%20%3Fparticipant.%7D%0A%20%20%0A%20%23%20The%20war%20which%20it%20belonged%20to%3A%0A%20%20%20%20OPTIONAL%7B%3Fwikidata_id%20wdt%3AP361%20%3Fwar.%0A%20%20%20%20%20%20%20%20%20%20%20%20%20%3Fwar%20wdt%3AP31%20wd%3AQ198%7D%0A%0A%20%20%20%20OPTIONAL%20%7B%0A%20%20%20%20%20%20%20%20%3Fwikidata_id%20rdfs%3Alabel%20%3Fname%20filter%20%28lang%28%3Fname%29%20%3D%20%22en%22%29%20.%0A%20%20%20%20%7D%0A%20%20%20%20OPTIONAL%20%7B%0A%20%20%20%20%20%20%3Farticle%20schema%3Aabout%20%3Fwikidata_id%20.%0A%20%20%20%20%20%20%3Farticle%20schema%3AinLanguage%20%22en%22%20.%0A%20%20%20%20%20%20FILTER%20%28SUBSTR%28str%28%3Farticle%29%2C%201%2C%2025%29%20%3D%20%22https%3A%2F%2Fen.wikipedia.org%2F%22%29%0A%20%20%20%20%7D%0A%20%20%0A%20%20%23%20Get%20the%20label%20for%20participants%20and%20war.%0A%20%20%0A%20%20%20%20SERVICE%20wikibase%3Alabel%20%7B%20bd%3AserviceParam%20wikibase%3Alanguage%20%22%5BAUTO_LANGUAGE%5D%2Cen%22.%20%7D%0A%0A%20%20%0A%20%20%0A%7D%20"
   ]
  },
  {
   "cell_type": "code",
   "execution_count": 2,
   "metadata": {},
   "outputs": [],
   "source": [
    "from SPARQLWrapper import SPARQLWrapper, JSON\n",
    "import pandas as pd\n",
    "\n",
    "sparql = SPARQLWrapper(\"https://query.wikidata.org/sparql\")\n",
    "\n",
    "\n"
   ]
  },
  {
   "cell_type": "code",
   "execution_count": 3,
   "metadata": {},
   "outputs": [],
   "source": [
    "# From https://www.wikidata.org/wiki/Wikidata:SPARQL_query_service/queries/examples#Cats\n",
    "sparql.setQuery(\"\"\"\n",
    "prefix schema: <http://schema.org/>\n",
    "PREFIX wikibase: <http://wikiba.se/ontology#>\n",
    "PREFIX wd: <http://www.wikidata.org/entity/>\n",
    "PREFIX wdt: <http://www.wikidata.org/prop/direct/>\n",
    "\n",
    "SELECT ?wikidata_id ?name ?article ?coordinates ?starttime ?endtime ?participantLabel ?warLabel\n",
    "WHERE {\n",
    "  \n",
    " # Select all battles in the database\n",
    "    ?wikidata_id wdt:P31 wd:Q178561.\n",
    "  \n",
    " # Then select, when possible:\n",
    " # (by removing the OPTIONAL{} tag it becomes a mandatory requisite for the query.\n",
    "  \n",
    " # The coordinates:\n",
    "    OPTIONAL{?wikidata_id wdt:P625 ?coordinates.}\n",
    "  \n",
    " # The start time:\n",
    "    OPTIONAL{?wikidata_id wdt:P580 ?starttime.}\n",
    "  \n",
    " # The end time:\n",
    "    OPTIONAL{?wikidata_id wdt:P582 ?endtime.}\n",
    "  \n",
    " # The participants:\n",
    "    OPTIONAL{?wikidata_id wdt:P710 ?participant.}\n",
    "  \n",
    " # The war which it belonged to:\n",
    "    OPTIONAL{?wikidata_id wdt:P361 ?war.\n",
    "             ?war wdt:P31 wd:Q198}\n",
    "\n",
    "    OPTIONAL {\n",
    "        ?wikidata_id rdfs:label ?name filter (lang(?name) = \"en\") .\n",
    "    }\n",
    "    OPTIONAL {\n",
    "      ?article schema:about ?wikidata_id .\n",
    "      ?article schema:inLanguage \"en\" .\n",
    "      FILTER (SUBSTR(str(?article), 1, 25) = \"https://en.wikipedia.org/\")\n",
    "    }\n",
    "  \n",
    "  # Get the label for participants and war.\n",
    "  \n",
    "    SERVICE wikibase:label { bd:serviceParam wikibase:language \"[AUTO_LANGUAGE],en\". }\n",
    "\n",
    "  \n",
    "  \n",
    "}  \n",
    "\"\"\")"
   ]
  },
  {
   "cell_type": "code",
   "execution_count": 4,
   "metadata": {},
   "outputs": [],
   "source": [
    "sparql.setReturnFormat(JSON)\n",
    "results = sparql.query().convert()"
   ]
  },
  {
   "cell_type": "code",
   "execution_count": 5,
   "metadata": {},
   "outputs": [
    {
     "data": {
      "text/html": [
       "<div>\n",
       "<style scoped>\n",
       "    .dataframe tbody tr th:only-of-type {\n",
       "        vertical-align: middle;\n",
       "    }\n",
       "\n",
       "    .dataframe tbody tr th {\n",
       "        vertical-align: top;\n",
       "    }\n",
       "\n",
       "    .dataframe thead th {\n",
       "        text-align: right;\n",
       "    }\n",
       "</style>\n",
       "<table border=\"1\" class=\"dataframe\">\n",
       "  <thead>\n",
       "    <tr style=\"text-align: right;\">\n",
       "      <th></th>\n",
       "      <th>wikidata_id.type</th>\n",
       "      <th>wikidata_id.value</th>\n",
       "      <th>article.type</th>\n",
       "      <th>article.value</th>\n",
       "      <th>name.xml:lang</th>\n",
       "      <th>name.type</th>\n",
       "      <th>name.value</th>\n",
       "      <th>coordinates.datatype</th>\n",
       "      <th>coordinates.type</th>\n",
       "      <th>coordinates.value</th>\n",
       "      <th>...</th>\n",
       "      <th>warLabel.value</th>\n",
       "      <th>participantLabel.xml:lang</th>\n",
       "      <th>participantLabel.type</th>\n",
       "      <th>participantLabel.value</th>\n",
       "      <th>starttime.datatype</th>\n",
       "      <th>starttime.type</th>\n",
       "      <th>starttime.value</th>\n",
       "      <th>endtime.datatype</th>\n",
       "      <th>endtime.type</th>\n",
       "      <th>endtime.value</th>\n",
       "    </tr>\n",
       "  </thead>\n",
       "  <tbody>\n",
       "    <tr>\n",
       "      <th>0</th>\n",
       "      <td>uri</td>\n",
       "      <td>http://www.wikidata.org/entity/Q169602</td>\n",
       "      <td>uri</td>\n",
       "      <td>https://en.wikipedia.org/wiki/Battle_of_Jakobs...</td>\n",
       "      <td>en</td>\n",
       "      <td>literal</td>\n",
       "      <td>Battle of Jakobstadt</td>\n",
       "      <td>http://www.opengis.net/ont/geosparql#wktLiteral</td>\n",
       "      <td>literal</td>\n",
       "      <td>Point(25.870833333 56.503611111)</td>\n",
       "      <td>...</td>\n",
       "      <td>Great Northern War</td>\n",
       "      <td>NaN</td>\n",
       "      <td>NaN</td>\n",
       "      <td>NaN</td>\n",
       "      <td>NaN</td>\n",
       "      <td>NaN</td>\n",
       "      <td>NaN</td>\n",
       "      <td>NaN</td>\n",
       "      <td>NaN</td>\n",
       "      <td>NaN</td>\n",
       "    </tr>\n",
       "    <tr>\n",
       "      <th>1</th>\n",
       "      <td>uri</td>\n",
       "      <td>http://www.wikidata.org/entity/Q170113</td>\n",
       "      <td>uri</td>\n",
       "      <td>https://en.wikipedia.org/wiki/Battle_of_Saint_...</td>\n",
       "      <td>en</td>\n",
       "      <td>literal</td>\n",
       "      <td>Battle of Saint Gotthard</td>\n",
       "      <td>http://www.opengis.net/ont/geosparql#wktLiteral</td>\n",
       "      <td>literal</td>\n",
       "      <td>Point(16.21666667 46.94166667)</td>\n",
       "      <td>...</td>\n",
       "      <td>Austro-Turkish War</td>\n",
       "      <td>en</td>\n",
       "      <td>literal</td>\n",
       "      <td>Principality of Wallachia</td>\n",
       "      <td>NaN</td>\n",
       "      <td>NaN</td>\n",
       "      <td>NaN</td>\n",
       "      <td>NaN</td>\n",
       "      <td>NaN</td>\n",
       "      <td>NaN</td>\n",
       "    </tr>\n",
       "    <tr>\n",
       "      <th>2</th>\n",
       "      <td>uri</td>\n",
       "      <td>http://www.wikidata.org/entity/Q170113</td>\n",
       "      <td>uri</td>\n",
       "      <td>https://en.wikipedia.org/wiki/Battle_of_Saint_...</td>\n",
       "      <td>en</td>\n",
       "      <td>literal</td>\n",
       "      <td>Battle of Saint Gotthard</td>\n",
       "      <td>http://www.opengis.net/ont/geosparql#wktLiteral</td>\n",
       "      <td>literal</td>\n",
       "      <td>Point(16.21666667 46.94166667)</td>\n",
       "      <td>...</td>\n",
       "      <td>Austro-Turkish War</td>\n",
       "      <td>en</td>\n",
       "      <td>literal</td>\n",
       "      <td>Ottoman Empire</td>\n",
       "      <td>NaN</td>\n",
       "      <td>NaN</td>\n",
       "      <td>NaN</td>\n",
       "      <td>NaN</td>\n",
       "      <td>NaN</td>\n",
       "      <td>NaN</td>\n",
       "    </tr>\n",
       "    <tr>\n",
       "      <th>3</th>\n",
       "      <td>uri</td>\n",
       "      <td>http://www.wikidata.org/entity/Q170148</td>\n",
       "      <td>uri</td>\n",
       "      <td>https://en.wikipedia.org/wiki/Ragnar%C3%B6k</td>\n",
       "      <td>en</td>\n",
       "      <td>literal</td>\n",
       "      <td>Ragnarök</td>\n",
       "      <td>NaN</td>\n",
       "      <td>NaN</td>\n",
       "      <td>NaN</td>\n",
       "      <td>...</td>\n",
       "      <td>NaN</td>\n",
       "      <td>NaN</td>\n",
       "      <td>NaN</td>\n",
       "      <td>NaN</td>\n",
       "      <td>NaN</td>\n",
       "      <td>NaN</td>\n",
       "      <td>NaN</td>\n",
       "      <td>NaN</td>\n",
       "      <td>NaN</td>\n",
       "      <td>NaN</td>\n",
       "    </tr>\n",
       "  </tbody>\n",
       "</table>\n",
       "<p>4 rows × 22 columns</p>\n",
       "</div>"
      ],
      "text/plain": [
       "  wikidata_id.type                       wikidata_id.value article.type  \\\n",
       "0              uri  http://www.wikidata.org/entity/Q169602          uri   \n",
       "1              uri  http://www.wikidata.org/entity/Q170113          uri   \n",
       "2              uri  http://www.wikidata.org/entity/Q170113          uri   \n",
       "3              uri  http://www.wikidata.org/entity/Q170148          uri   \n",
       "\n",
       "                                       article.value name.xml:lang name.type  \\\n",
       "0  https://en.wikipedia.org/wiki/Battle_of_Jakobs...            en   literal   \n",
       "1  https://en.wikipedia.org/wiki/Battle_of_Saint_...            en   literal   \n",
       "2  https://en.wikipedia.org/wiki/Battle_of_Saint_...            en   literal   \n",
       "3        https://en.wikipedia.org/wiki/Ragnar%C3%B6k            en   literal   \n",
       "\n",
       "                 name.value                             coordinates.datatype  \\\n",
       "0      Battle of Jakobstadt  http://www.opengis.net/ont/geosparql#wktLiteral   \n",
       "1  Battle of Saint Gotthard  http://www.opengis.net/ont/geosparql#wktLiteral   \n",
       "2  Battle of Saint Gotthard  http://www.opengis.net/ont/geosparql#wktLiteral   \n",
       "3                  Ragnarök                                              NaN   \n",
       "\n",
       "  coordinates.type                 coordinates.value  ...      warLabel.value  \\\n",
       "0          literal  Point(25.870833333 56.503611111)  ...  Great Northern War   \n",
       "1          literal    Point(16.21666667 46.94166667)  ...  Austro-Turkish War   \n",
       "2          literal    Point(16.21666667 46.94166667)  ...  Austro-Turkish War   \n",
       "3              NaN                               NaN  ...                 NaN   \n",
       "\n",
       "  participantLabel.xml:lang participantLabel.type     participantLabel.value  \\\n",
       "0                       NaN                   NaN                        NaN   \n",
       "1                        en               literal  Principality of Wallachia   \n",
       "2                        en               literal             Ottoman Empire   \n",
       "3                       NaN                   NaN                        NaN   \n",
       "\n",
       "  starttime.datatype starttime.type starttime.value endtime.datatype  \\\n",
       "0                NaN            NaN             NaN              NaN   \n",
       "1                NaN            NaN             NaN              NaN   \n",
       "2                NaN            NaN             NaN              NaN   \n",
       "3                NaN            NaN             NaN              NaN   \n",
       "\n",
       "  endtime.type endtime.value  \n",
       "0          NaN           NaN  \n",
       "1          NaN           NaN  \n",
       "2          NaN           NaN  \n",
       "3          NaN           NaN  \n",
       "\n",
       "[4 rows x 22 columns]"
      ]
     },
     "execution_count": 5,
     "metadata": {},
     "output_type": "execute_result"
    }
   ],
   "source": [
    "results_df = pd.json_normalize(results['results']['bindings'])\n",
    "results_df.head(4)\n"
   ]
  },
  {
   "cell_type": "markdown",
   "metadata": {},
   "source": [
    "Unfortunately, WikiMedia's database does not store battle result systematically. \n",
    "\n",
    "This information seems to be available only via scraping of infoboxes.\n",
    "\n",
    "The WikiProjects that worked with wars (https://www.wikidata.org/wiki/Category:WikiProject_Military_History and https://www.wikidata.org/wiki/Wikidata:WikiProject_WWII) apparently have not focused on capturing this kind of information. \n",
    "\n",
    "\n",
    "Also, we only have \"Participants\" which does not tell us who is in which side. \n",
    "\n",
    "Now let's do some cleaning:"
   ]
  },
  {
   "cell_type": "code",
   "execution_count": 6,
   "metadata": {},
   "outputs": [
    {
     "data": {
      "text/plain": [
       "nan"
      ]
     },
     "execution_count": 6,
     "metadata": {},
     "output_type": "execute_result"
    }
   ],
   "source": [
    "# Getting only the desired fields\n",
    "\n",
    "results_df = results_df[[\"article.value\", \"name.value\", \"coordinates.value\", \"participantLabel.value\", \"starttime.value\", \"endtime.value\", \"warLabel.value\"]]\n",
    "\n",
    "\n",
    "# Time format:\n",
    "list(results_df[\"endtime.value\"])[-1]\n"
   ]
  },
  {
   "cell_type": "markdown",
   "metadata": {},
   "source": [
    "As we can see, the time is almost as specified previously. The difference is the \"Z\", which indicates how precise the information is. \n",
    "This can be easily changed if needed. "
   ]
  },
  {
   "cell_type": "code",
   "execution_count": 7,
   "metadata": {},
   "outputs": [],
   "source": [
    "#Seeting proper names\n",
    "\n",
    "\n",
    "results_df.columns = [\"Wiki URL\", \"Battle name\", \"Battle location\", \"Belligerents\", \"Battle start date\", \"Battle end date\", \"Part of war\" ]"
   ]
  },
  {
   "cell_type": "code",
   "execution_count": 8,
   "metadata": {},
   "outputs": [],
   "source": [
    "urls = list(set(results_df[\"Wiki URL\"]))[1:]"
   ]
  },
  {
   "cell_type": "code",
   "execution_count": 11,
   "metadata": {},
   "outputs": [],
   "source": [
    "import wikipedia\n",
    "import time\n",
    "\n",
    "names_to_pageids ={}\n",
    "for name in urls:\n",
    "    name = name.split(\"/\")[4]\n",
    "    if name not in  names_to_pageids:\n",
    "        try:\n",
    "            battle = wikipedia.page(name)\n",
    "            names_to_pageids[name] = battle.pageid\n",
    "            time.sleep(1)\n",
    "        except:\n",
    "           print(\"Failed for \" + name)\n"
   ]
  },
  {
   "cell_type": "code",
   "execution_count": 25,
   "metadata": {},
   "outputs": [],
   "source": [
    "for key in names_to_pageids.keys():\n",
    "    url = \"https://en.wikipedia.org/wiki/\" + name\n",
    "    names_to_pageids[url] = names_to_pageids.pop(key)"
   ]
  },
  {
   "cell_type": "code",
   "execution_count": 29,
   "metadata": {},
   "outputs": [],
   "source": [
    "results_df[\"Page ID\"] = results_df[\"Wiki URL\"].map(names_to_pageids)"
   ]
  },
  {
   "cell_type": "code",
   "execution_count": 30,
   "metadata": {},
   "outputs": [],
   "source": [
    "# Exporting in an excel format\n",
    "results_df.to_excel('Battles in WikiMedia.xlsx', sheet_name='Battles in WikiMedia', index = False)"
   ]
  },
  {
   "cell_type": "markdown",
   "metadata": {},
   "source": [
    "The rows are repeated, as each Belligerent is stored in a different line.\n",
    "\n",
    "Values are missing for many cases.\n",
    "\n",
    "\n",
    "Note: there are more Battles in WikiMedia's database than in the Wikipedia list. \n"
   ]
  },
  {
   "cell_type": "code",
   "execution_count": 31,
   "metadata": {},
   "outputs": [
    {
     "name": "stdout",
     "output_type": "stream",
     "text": [
      "There are 8457 different battles in WikiMedia's database\n"
     ]
    }
   ],
   "source": [
    "print(\"There are {} different battles in WikiMedia's database\".format(len(set(results_df[\"Battle name\"]))))"
   ]
  },
  {
   "cell_type": "code",
   "execution_count": 32,
   "metadata": {},
   "outputs": [
    {
     "name": "stdout",
     "output_type": "stream",
     "text": [
      "There are 156 different battles in WikiMedia's database for which all required information (but result) is available\n"
     ]
    }
   ],
   "source": [
    "print(\"There are {} different battles in WikiMedia's database for which all required information (but result) is available\".format(len(set(results_df.dropna()[\"Battle name\"]))))"
   ]
  },
  {
   "cell_type": "code",
   "execution_count": 33,
   "metadata": {},
   "outputs": [],
   "source": [
    "results_df.dropna().to_excel('Battles in WikiMedia_only_full_battles.xlsx', sheet_name='Battles in WikiMedia', index = False)"
   ]
  }
 ],
 "metadata": {
  "kernelspec": {
   "display_name": "Python 3",
   "language": "python",
   "name": "python3"
  },
  "language_info": {
   "codemirror_mode": {
    "name": "ipython",
    "version": 3
   },
   "file_extension": ".py",
   "mimetype": "text/x-python",
   "name": "python",
   "nbconvert_exporter": "python",
   "pygments_lexer": "ipython3",
   "version": "3.7.5"
  }
 },
 "nbformat": 4,
 "nbformat_minor": 4
}
