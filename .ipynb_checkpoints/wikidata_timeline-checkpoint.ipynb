{
 "cells": [
  {
   "cell_type": "markdown",
   "metadata": {},
   "source": [
    "Goal:\n",
    "\n",
    "Collect relevant information on the following pages:\n",
    "\n",
    "* 1) https://en.wikipedia.org/wiki/17th_century \n",
    "* 2) https://en.wikipedia.org/wiki/Timeline_of_the_17th_century\n",
    "* 3) https://en.wikipedia.org/wiki/1600s_(decade)\n",
    "* 4) https://en.wikipedia.org/wiki/1600\n",
    "\n",
    "I will start with a Wikidata-based approach:\n"
   ]
  },
  {
   "cell_type": "code",
   "execution_count": null,
   "metadata": {},
   "outputs": [],
   "source": [
    "I"
   ]
  }
 ],
 "metadata": {
  "kernelspec": {
   "display_name": "Python 3",
   "language": "python",
   "name": "python3"
  },
  "language_info": {
   "codemirror_mode": {
    "name": "ipython",
    "version": 3
   },
   "file_extension": ".py",
   "mimetype": "text/x-python",
   "name": "python",
   "nbconvert_exporter": "python",
   "pygments_lexer": "ipython3",
   "version": "3.7.5"
  }
 },
 "nbformat": 4,
 "nbformat_minor": 4
}
