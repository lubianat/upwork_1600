{
 "cells": [
  {
   "cell_type": "markdown",
   "metadata": {},
   "source": [
    "Goal:\n",
    "\n",
    "Collect relevant information on the following pages:\n",
    "\n",
    "* 1) https://en.wikipedia.org/wiki/17th_century \n",
    "* 2) https://en.wikipedia.org/wiki/Timeline_of_the_17th_century\n",
    "* 3) https://en.wikipedia.org/wiki/1600s_(decade)\n",
    "* 4) https://en.wikipedia.org/wiki/1600\n",
    "\n",
    "I will start with a Wikidata-based approach:\n",
    "\n",
    "- For each section, get all hyperlinks\n",
    "- For each hyperlink:\n",
    "    - Check if it is a person:\n",
    "        - If so, get date of birth, date of death, place of birth and place of death\n",
    "        - Store QID + information\n",
    "        - Get Wikipage\n",
    "        - Get full text\n",
    "    \n",
    "    \n",
    "Let us make some API calls:"
   ]
  },
  {
   "cell_type": "code",
   "execution_count": 1,
   "metadata": {},
   "outputs": [
    {
     "data": {
      "text/html": [
       "<div>\n",
       "<style scoped>\n",
       "    .dataframe tbody tr th:only-of-type {\n",
       "        vertical-align: middle;\n",
       "    }\n",
       "\n",
       "    .dataframe tbody tr th {\n",
       "        vertical-align: top;\n",
       "    }\n",
       "\n",
       "    .dataframe thead th {\n",
       "        text-align: right;\n",
       "    }\n",
       "</style>\n",
       "<table border=\"1\" class=\"dataframe\">\n",
       "  <thead>\n",
       "    <tr style=\"text-align: right;\">\n",
       "      <th></th>\n",
       "      <th>toclevel</th>\n",
       "      <th>level</th>\n",
       "      <th>line</th>\n",
       "      <th>number</th>\n",
       "      <th>index</th>\n",
       "      <th>fromtitle</th>\n",
       "      <th>byteoffset</th>\n",
       "      <th>anchor</th>\n",
       "    </tr>\n",
       "  </thead>\n",
       "  <tbody>\n",
       "    <tr>\n",
       "      <th>0</th>\n",
       "      <td>1</td>\n",
       "      <td>2</td>\n",
       "      <td>Events</td>\n",
       "      <td>1</td>\n",
       "      <td>1</td>\n",
       "      <td>17th_century</td>\n",
       "      <td>7373</td>\n",
       "      <td>Events</td>\n",
       "    </tr>\n",
       "    <tr>\n",
       "      <th>1</th>\n",
       "      <td>2</td>\n",
       "      <td>3</td>\n",
       "      <td>1601–1650</td>\n",
       "      <td>1.1</td>\n",
       "      <td>2</td>\n",
       "      <td>17th_century</td>\n",
       "      <td>7423</td>\n",
       "      <td>1601–1650</td>\n",
       "    </tr>\n",
       "    <tr>\n",
       "      <th>2</th>\n",
       "      <td>2</td>\n",
       "      <td>3</td>\n",
       "      <td>1651–1700</td>\n",
       "      <td>1.2</td>\n",
       "      <td>3</td>\n",
       "      <td>17th_century</td>\n",
       "      <td>17327</td>\n",
       "      <td>1651–1700</td>\n",
       "    </tr>\n",
       "    <tr>\n",
       "      <th>3</th>\n",
       "      <td>1</td>\n",
       "      <td>2</td>\n",
       "      <td>Significant people</td>\n",
       "      <td>2</td>\n",
       "      <td>4</td>\n",
       "      <td>17th_century</td>\n",
       "      <td>23000</td>\n",
       "      <td>Significant_people</td>\n",
       "    </tr>\n",
       "    <tr>\n",
       "      <th>4</th>\n",
       "      <td>2</td>\n",
       "      <td>3</td>\n",
       "      <td>Musicians</td>\n",
       "      <td>2.1</td>\n",
       "      <td>5</td>\n",
       "      <td>17th_century</td>\n",
       "      <td>27283</td>\n",
       "      <td>Musicians</td>\n",
       "    </tr>\n",
       "  </tbody>\n",
       "</table>\n",
       "</div>"
      ],
      "text/plain": [
       "   toclevel level                line number index     fromtitle  byteoffset  \\\n",
       "0         1     2              Events      1     1  17th_century        7373   \n",
       "1         2     3           1601–1650    1.1     2  17th_century        7423   \n",
       "2         2     3           1651–1700    1.2     3  17th_century       17327   \n",
       "3         1     2  Significant people      2     4  17th_century       23000   \n",
       "4         2     3           Musicians    2.1     5  17th_century       27283   \n",
       "\n",
       "               anchor  \n",
       "0              Events  \n",
       "1           1601–1650  \n",
       "2           1651–1700  \n",
       "3  Significant_people  \n",
       "4           Musicians  "
      ]
     },
     "execution_count": 1,
     "metadata": {},
     "output_type": "execute_result"
    }
   ],
   "source": [
    "import requests\n",
    "from functions import functions\n",
    "import pandas as pd\n",
    "\n",
    "query = \"https://en.wikipedia.org/w/api.php?action=parse&prop=sections&page=17th_century&format=json\"\n",
    "sections = requests.get(query)\n",
    "sections_df = pd.json_normalize(sections.json()[\"parse\"][\"sections\"])\n",
    "sections_df.head()"
   ]
  },
  {
   "cell_type": "markdown",
   "metadata": {},
   "source": [
    "Let's get all links for the significant people in the _Science_and_philosophy_ section, section numbered 9.\n"
   ]
  },
  {
   "cell_type": "code",
   "execution_count": 2,
   "metadata": {},
   "outputs": [
    {
     "data": {
      "text/html": [
       "<div>\n",
       "<style scoped>\n",
       "    .dataframe tbody tr th:only-of-type {\n",
       "        vertical-align: middle;\n",
       "    }\n",
       "\n",
       "    .dataframe tbody tr th {\n",
       "        vertical-align: top;\n",
       "    }\n",
       "\n",
       "    .dataframe thead th {\n",
       "        text-align: right;\n",
       "    }\n",
       "</style>\n",
       "<table border=\"1\" class=\"dataframe\">\n",
       "  <thead>\n",
       "    <tr style=\"text-align: right;\">\n",
       "      <th></th>\n",
       "      <th>ns</th>\n",
       "      <th>exists</th>\n",
       "      <th>*</th>\n",
       "    </tr>\n",
       "  </thead>\n",
       "  <tbody>\n",
       "    <tr>\n",
       "      <th>0</th>\n",
       "      <td>0</td>\n",
       "      <td></td>\n",
       "      <td>Age of Enlightenment</td>\n",
       "    </tr>\n",
       "    <tr>\n",
       "      <th>1</th>\n",
       "      <td>0</td>\n",
       "      <td></td>\n",
       "      <td>Antonie van Leeuwenhoek</td>\n",
       "    </tr>\n",
       "    <tr>\n",
       "      <th>2</th>\n",
       "      <td>0</td>\n",
       "      <td></td>\n",
       "      <td>Athanasius Kircher</td>\n",
       "    </tr>\n",
       "    <tr>\n",
       "      <th>3</th>\n",
       "      <td>0</td>\n",
       "      <td></td>\n",
       "      <td>Baruch Spinoza</td>\n",
       "    </tr>\n",
       "    <tr>\n",
       "      <th>4</th>\n",
       "      <td>0</td>\n",
       "      <td></td>\n",
       "      <td>Blaise Pascal</td>\n",
       "    </tr>\n",
       "  </tbody>\n",
       "</table>\n",
       "</div>"
      ],
      "text/plain": [
       "   ns exists                        *\n",
       "0   0            Age of Enlightenment\n",
       "1   0         Antonie van Leeuwenhoek\n",
       "2   0              Athanasius Kircher\n",
       "3   0                  Baruch Spinoza\n",
       "4   0                   Blaise Pascal"
      ]
     },
     "execution_count": 2,
     "metadata": {},
     "output_type": "execute_result"
    }
   ],
   "source": [
    "query = \"https://en.wikipedia.org/w/api.php?action=parse&prop=links&page=17th_century&format=json&section=9\"\n",
    "links = requests.get(query)\n",
    "\n",
    "links_df = pd.json_normalize(links.json()[\"parse\"][\"links\"])\n",
    "\n",
    "links_df.head()"
   ]
  },
  {
   "cell_type": "markdown",
   "metadata": {},
   "source": [
    "Now that I have the pages that are linked, let's try and get information about these pages from Wikidata\n"
   ]
  },
  {
   "cell_type": "code",
   "execution_count": null,
   "metadata": {},
   "outputs": [],
   "source": [
    "links_df = functions.add_ids_and_urls_to_dataframe(links_df)\n",
    "links_df.head()"
   ]
  },
  {
   "cell_type": "code",
   "execution_count": null,
   "metadata": {},
   "outputs": [],
   "source": [
    "human_info = functions.return_data_about_humans(links_df[\"wikidata_id\"])\n",
    "human_info.head()"
   ]
  },
  {
   "cell_type": "markdown",
   "metadata": {},
   "source": [
    "A few of the names are duplicated. That is due to multiple values for some features. For example, some sources say that Robert Hooke was born on 1635-07-18 while others say 1635-07-28.\n",
    "\n",
    "Anyways, I will add the English Wikipedia URLs and page ids.\n",
    "\n"
   ]
  },
  {
   "cell_type": "code",
   "execution_count": null,
   "metadata": {},
   "outputs": [],
   "source": [
    "human_info = human_info.merge(links_df[[\"wikidata_id\", \"page_url\", \"page_id\"]])\n",
    "\n",
    "human_info.head()"
   ]
  },
  {
   "cell_type": "markdown",
   "metadata": {},
   "source": [
    "Nice! The next steps are:\n",
    "\n",
    "- Run pipeline and store results for all pages and all sections\n",
    "\n",
    "Let's start by the sections on the 17th_century page. But first, it is time to make it possible to run it all with a single function, int the functions.py file. \n"
   ]
  },
  {
   "cell_type": "code",
   "execution_count": null,
   "metadata": {},
   "outputs": [],
   "source": [
    "page = \"17th_century\"\n",
    "functions.detect_and_save_people_per_section(page)"
   ]
  },
  {
   "cell_type": "markdown",
   "metadata": {},
   "source": [
    "Nice. Now I'll run it for the other pages."
   ]
  },
  {
   "cell_type": "code",
   "execution_count": null,
   "metadata": {},
   "outputs": [],
   "source": [
    "page = \"Timeline_of_the_17th_century\"\n",
    "functions.detect_and_save_people_per_section(page)"
   ]
  },
  {
   "cell_type": "code",
   "execution_count": null,
   "metadata": {},
   "outputs": [],
   "source": [
    "page = \"1600s_(decade)\"\n",
    "functions.detect_and_save_people_per_section(page)"
   ]
  },
  {
   "cell_type": "code",
   "execution_count": null,
   "metadata": {},
   "outputs": [],
   "source": [
    "page = \"1600\"\n",
    "functions.detect_and_save_people_per_section(page)"
   ]
  }
 ],
 "metadata": {
  "kernelspec": {
   "display_name": "Python 3",
   "language": "python",
   "name": "python3"
  },
  "language_info": {
   "codemirror_mode": {
    "name": "ipython",
    "version": 3
   },
   "file_extension": ".py",
   "mimetype": "text/x-python",
   "name": "python",
   "nbconvert_exporter": "python",
   "pygments_lexer": "ipython3",
   "version": "3.7.5"
  }
 },
 "nbformat": 4,
 "nbformat_minor": 4
}
